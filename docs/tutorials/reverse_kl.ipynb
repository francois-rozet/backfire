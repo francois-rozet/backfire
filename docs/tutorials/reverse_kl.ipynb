{
 "cells": [
  {
   "cell_type": "markdown",
   "metadata": {},
   "source": [
    "# Training from energy\n",
    "\n",
    "This notebook walks you through training a normalizing flow by gradient descent when data is unavailable, but you have access to an energy function $U(x)$ proportional to the density $p(x)$."
   ]
  },
  {
   "cell_type": "code",
   "execution_count": 1,
   "metadata": {},
   "outputs": [],
   "source": [
    "import matplotlib.pyplot as plt\n",
    "import torch\n",
    "import zuko"
   ]
  },
  {
   "cell_type": "markdown",
   "metadata": {},
   "source": [
    "## Energy\n",
    "\n",
    "We consider a simple multi-modal energy function.\n",
    "\n",
    "$$ \\log U(x) = -2 \\big( x_1^2 + x_2^2 - 2 \\big)^2 - \\sin(\\pi x_1) $$"
   ]
  },
  {
   "cell_type": "code",
   "execution_count": 2,
   "metadata": {},
   "outputs": [],
   "source": [
    "def log_energy(x):\n",
    "    x1, x2 = x[..., 0], x[..., 1]\n",
    "    return -2 * (x1 ** 2 + x2 ** 2 - 2) ** 2 - torch.sin(torch.pi * x1)"
   ]
  },
  {
   "cell_type": "code",
   "execution_count": 3,
   "metadata": {},
   "outputs": [],
   "source": [
    "x1 = torch.linspace(-3, 3, 64)\n",
    "x2 = torch.linspace(-3, 3, 64)\n",
    "\n",
    "x = torch.stack(torch.meshgrid(x1, x2, indexing='xy'), dim=-1)\n",
    "\n",
    "energy = log_energy(x).exp()"
   ]
  },
  {
   "cell_type": "code",
   "execution_count": 4,
   "metadata": {},
   "outputs": [
    {
     "data": {
      "image/png": "[encoded data removed]",
      "text/plain": [
       "<Figure size 480x480 with 1 Axes>"
      ]
     },
     "metadata": {},
     "output_type": "display_data"
    }
   ],
   "source": [
    "plt.figure(figsize=(4.8, 4.8))\n",
    "plt.imshow(energy)\n",
    "plt.show()"
   ]
  },
  {
   "cell_type": "markdown",
   "metadata": {},
   "source": [
    "## Flow\n",
    "\n",
    "We use a neural spline flow (NSF) as density estimator $q_\\phi(x)$. However, we inverse the transformation(s), which makes sampling more efficient as the inverse call of an autoregressive transformation is $D$ (where $D$ is the number of features) times slower than its forward call."
   ]
  },
  {
   "cell_type": "code",
   "execution_count": 5,
   "metadata": {},
   "outputs": [
    {
     "data": {
      "text/plain": [
       "Flow(\n",
       "  (transform): LazyInverse(\n",
       "    (transform): LazyComposedTransform(\n",
       "      (0): MaskedAutoregressiveTransform(\n",
       "        (base): MonotonicRQSTransform(bins=8)\n",
       "        (order): [0, 1]\n",
       "        (hyper): MaskedMLP(\n",
       "          (0): MaskedLinear(in_features=2, out_features=64, bias=True)\n",
       "          (1): ReLU()\n",
       "          (2): MaskedLinear(in_features=64, out_features=64, bias=True)\n",
       "          (3): ReLU()\n",
       "          (4): MaskedLinear(in_features=64, out_features=46, bias=True)\n",
       "        )\n",
       "      )\n",
       "      (1): MaskedAutoregressiveTransform(\n",
       "        (base): MonotonicRQSTransform(bins=8)\n",
       "        (order): [1, 0]\n",
       "        (hyper): MaskedMLP(\n",
       "          (0): MaskedLinear(in_features=2, out_features=64, bias=True)\n",
       "          (1): ReLU()\n",
       "          (2): MaskedLinear(in_features=64, out_features=64, bias=True)\n",
       "          (3): ReLU()\n",
       "          (4): MaskedLinear(in_features=64, out_features=46, bias=True)\n",
       "        )\n",
       "      )\n",
       "      (2): MaskedAutoregressiveTransform(\n",
       "        (base): MonotonicRQSTransform(bins=8)\n",
       "        (order): [0, 1]\n",
       "        (hyper): MaskedMLP(\n",
       "          (0): MaskedLinear(in_features=2, out_features=64, bias=True)\n",
       "          (1): ReLU()\n",
       "          (2): MaskedLinear(in_features=64, out_features=64, bias=True)\n",
       "          (3): ReLU()\n",
       "          (4): MaskedLinear(in_features=64, out_features=46, bias=True)\n",
       "        )\n",
       "      )\n",
       "    )\n",
       "  )\n",
       "  (base): Unconditional(DiagNormal(loc: torch.Size([2]), scale: torch.Size([2])))\n",
       ")"
      ]
     },
     "execution_count": 5,
     "metadata": {},
     "output_type": "execute_result"
    }
   ],
   "source": [
    "flow = zuko.flows.NSF(features=2, transforms=3, hidden_features=(64, 64))\n",
    "flow = zuko.flows.Flow(flow.transform.inv, flow.base)\n",
    "flow"
   ]
  },
  {
   "cell_type": "markdown",
   "metadata": {},
   "source": [
    "The objective is to minimize the Kullback-Leibler (KL) divergence between the modeled distribution $q_\\phi(x)$ and the true data distribution $p(x)$.\n",
    "\n",
    "$$\n",
    "    \\begin{align}\n",
    "        \\arg \\min_\\phi & ~ \\mathrm{KL} \\big( q_\\phi(x) || p(x) \\big) \\\\\n",
    "        = \\arg \\min_\\phi & ~ \\mathbb{E}_{q_\\phi(x)} \\left[ \\log \\frac{q_\\phi(x)}{p(x)} \\right] \\\\\n",
    "        = \\arg \\min_\\phi & ~ \\mathbb{E}_{q_\\phi(x)} \\big[ \\log q_\\phi(x) - \\log U(x) \\big]\n",
    "    \\end{align}\n",
    "$$\n",
    "\n",
    "For this purpose, [`NormalizingFlow`](zuko.distributions.NormalizingFlow) objects implement a special `rsample_and_log_prob` method which is much faster than calling `rsample` and `log_prob` separately."
   ]
  },
  {
   "cell_type": "code",
   "execution_count": 6,
   "metadata": {},
   "outputs": [
    {
     "name": "stdout",
     "output_type": "stream",
     "text": [
      "(0) -0.9997022151947021 ± 1.268591284751892\n",
      "(1) -1.55545973777771 ± 0.06887820363044739\n",
      "(2) -1.5759055614471436 ± 0.024518314749002457\n",
      "(3) -1.551119327545166 ± 0.31484392285346985\n",
      "(4) -1.5432345867156982 ± 0.4345369040966034\n",
      "(5) -1.583936333656311 ± 0.018940608948469162\n",
      "(6) -1.5850251913070679 ± 0.02267366833984852\n",
      "(7) -1.5866143703460693 ± 0.017558354884386063\n"
     ]
    }
   ],
   "source": [
    "optimizer = torch.optim.Adam(flow.parameters(), lr=1e-3)\n",
    "\n",
    "for epoch in range(8):\n",
    "    losses = []\n",
    "\n",
    "    for _ in range(256):\n",
    "        x, log_prob = flow().rsample_and_log_prob((256,))\n",
    "\n",
    "        loss = log_prob.mean() - log_energy(x).mean()\n",
    "        loss.backward()\n",
    "\n",
    "        optimizer.step()\n",
    "        optimizer.zero_grad()\n",
    "\n",
    "        losses.append(loss.detach())\n",
    "\n",
    "    losses = torch.stack(losses)\n",
    "\n",
    "    print(f'({epoch})', losses.mean().item(), '±', losses.std().item())"
   ]
  },
  {
   "cell_type": "code",
   "execution_count": 7,
   "metadata": {},
   "outputs": [
    {
     "data": {
      "image/png": "[encoded data removed]",
      "text/plain": [
       "<Figure size 480x480 with 1 Axes>"
      ]
     },
     "metadata": {},
     "output_type": "display_data"
    }
   ],
   "source": [
    "samples = flow().sample((16384,))\n",
    "\n",
    "plt.figure(figsize=(4.8, 4.8))\n",
    "plt.hist2d(*samples.T, bins=64, range=((-3, 3), (-3, 3)))\n",
    "plt.show()"
   ]
  },
  {
   "cell_type": "markdown",
   "metadata": {},
   "source": [
    "Note that this \"reverse KL\" objective is prone to mode collapses, especially in high-dimension."
   ]
  }
 ],
 "metadata": {
  "kernelspec": {
   "display_name": "zuko",
   "language": "python",
   "name": "zuko"
  },
  "language_info": {
   "codemirror_mode": {
    "name": "ipython",
    "version": 3
   },
   "file_extension": ".py",
   "mimetype": "text/x-python",
   "name": "python",
   "nbconvert_exporter": "python",
   "pygments_lexer": "ipython3",
   "version": "3.9.18"
  }
 },
 "nbformat": 4,
 "nbformat_minor": 4
}
